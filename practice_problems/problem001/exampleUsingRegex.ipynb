{
 "cells": [
  {
   "cell_type": "code",
   "execution_count": 2,
   "id": "0e827e3d",
   "metadata": {},
   "outputs": [],
   "source": [
    "import re "
   ]
  },
  {
   "cell_type": "code",
   "execution_count": 3,
   "id": "9da05e64",
   "metadata": {},
   "outputs": [
    {
     "ename": "TypeError",
     "evalue": "cannot create 're.Pattern' instances",
     "output_type": "error",
     "traceback": [
      "\u001b[1;31m---------------------------------------------------------------------------\u001b[0m",
      "\u001b[1;31mTypeError\u001b[0m                                 Traceback (most recent call last)",
      "Input \u001b[1;32mIn [3]\u001b[0m, in \u001b[0;36m<cell line: 1>\u001b[1;34m()\u001b[0m\n\u001b[1;32m----> 1\u001b[0m \u001b[43mre\u001b[49m\u001b[38;5;241;43m.\u001b[39;49m\u001b[43mPattern\u001b[49m\u001b[43m(\u001b[49m\u001b[43mhelp\u001b[49m\u001b[43m)\u001b[49m\n",
      "\u001b[1;31mTypeError\u001b[0m: cannot create 're.Pattern' instances"
     ]
    }
   ],
   "source": [
    "re.Pattern(help)"
   ]
  },
  {
   "cell_type": "code",
   "execution_count": 4,
   "id": "fd7ecb61",
   "metadata": {},
   "outputs": [],
   "source": [
    "pattern = r\"\\d{10}*\" \n",
    "compare = re.compile(pattern)"
   ]
  },
  {
   "cell_type": "code",
   "execution_count": 5,
   "id": "9f14e9d9",
   "metadata": {},
   "outputs": [],
   "source": [
    "ejemplo = \"1234567890\""
   ]
  },
  {
   "cell_type": "code",
   "execution_count": 6,
   "id": "1a77279d",
   "metadata": {},
   "outputs": [
    {
     "name": "stdout",
     "output_type": "stream",
     "text": [
      "<re.Match object; span=(0, 10), match='1234567890'>\n"
     ]
    }
   ],
   "source": [
    "a = compare.fullmatch(ejemplo)\n",
    "print(a)"
   ]
  },
  {
   "cell_type": "code",
   "execution_count": 7,
   "id": "6bac5286",
   "metadata": {},
   "outputs": [
    {
     "name": "stdout",
     "output_type": "stream",
     "text": [
      "pumas\n"
     ]
    }
   ],
   "source": [
    "if a != None:\n",
    "    print(\"pumas\")"
   ]
  },
  {
   "cell_type": "code",
   "execution_count": 40,
   "id": "ef3a9911",
   "metadata": {},
   "outputs": [],
   "source": [
    "value = \"\"\n",
    "pattern = r\"(\\d{10})*\" \n",
    "compare = re.compile(pattern)\n",
    "a = compare.fullmatch(value)\n",
    "if a == None:\n",
    "    print(\"no hay match\")"
   ]
  },
  {
   "cell_type": "code",
   "execution_count": 42,
   "id": "b68a401b",
   "metadata": {},
   "outputs": [],
   "source": [
    "value = \"a21345156\"\n",
    "pattern = r\"([A-Za-z0-9])*\"\n",
    "compare = re.compile(pattern)\n",
    "a = compare.fullmatch(value)\n",
    "if a == None:\n",
    "    print(\"no hay match\")"
   ]
  },
  {
   "cell_type": "code",
   "execution_count": 38,
   "id": "19192b37",
   "metadata": {},
   "outputs": [],
   "source": [
    "value = \"mail_*&^%$#!~?@domain.com\"\n",
    "value = \"mail@domain.com!\"\n",
    "value = \"\"\n",
    "pattern = r\"([A-Za-z0-9_*&^%$#!~?]+@[A-Za-z0-9]+.com)*\"\n",
    "compare = re.compile(pattern)\n",
    "a = compare.fullmatch(value)\n",
    "if a == None:\n",
    "    print(\"no hay match\")"
   ]
  },
  {
   "cell_type": "code",
   "execution_count": null,
   "id": "ec6fd271",
   "metadata": {},
   "outputs": [],
   "source": []
  }
 ],
 "metadata": {
  "kernelspec": {
   "display_name": "Python 3 (ipykernel)",
   "language": "python",
   "name": "python3"
  },
  "language_info": {
   "codemirror_mode": {
    "name": "ipython",
    "version": 3
   },
   "file_extension": ".py",
   "mimetype": "text/x-python",
   "name": "python",
   "nbconvert_exporter": "python",
   "pygments_lexer": "ipython3",
   "version": "3.8.12"
  }
 },
 "nbformat": 4,
 "nbformat_minor": 5
}
